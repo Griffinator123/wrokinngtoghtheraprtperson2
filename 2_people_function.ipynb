{
  "nbformat": 4,
  "nbformat_minor": 0,
  "metadata": {
    "colab": {
      "provenance": [],
      "authorship_tag": "ABX9TyMVS2gkgZZkcj64Eghit99R",
      "include_colab_link": true
    },
    "kernelspec": {
      "name": "python3",
      "display_name": "Python 3"
    },
    "language_info": {
      "name": "python"
    }
  },
  "cells": [
    {
      "cell_type": "markdown",
      "metadata": {
        "id": "view-in-github",
        "colab_type": "text"
      },
      "source": [
        "<a href=\"https://colab.research.google.com/github/Griffinator123/wrokinngtoghtheraprtperson2/blob/main/2_people_function.ipynb\" target=\"_parent\"><img src=\"https://colab.research.google.com/assets/colab-badge.svg\" alt=\"Open In Colab\"/></a>"
      ]
    },
    {
      "cell_type": "code",
      "execution_count": null,
      "metadata": {
        "id": "ag5f1gxz0gdn"
      },
      "outputs": [],
      "source": [
        "#working toghter apraty person 2\n",
        "def tax_calc(cost,tax):\n",
        "  tax_amount = cost * tax\n",
        "  total = tax_amount + cost\n",
        "  return(total, tax_amount)\n"
      ]
    },
    {
      "cell_type": "code",
      "source": [
        "total, tax_amount = tax_calc(1000,.06)\n",
        "\n",
        "print(\"total is: \", total)\n",
        "print(\"tax amount is: \", tax_amount)\n",
        "\n"
      ],
      "metadata": {
        "colab": {
          "base_uri": "https://localhost:8080/"
        },
        "id": "Fd59IvUW4oE8",
        "outputId": "17f7390c-7e97-4f00-b3e2-c7e0dc5d6d6d"
      },
      "execution_count": null,
      "outputs": [
        {
          "output_type": "stream",
          "name": "stdout",
          "text": [
            "total is:  1060.0\n",
            "tax amount is:  60.0\n"
          ]
        }
      ]
    },
    {
      "cell_type": "code",
      "source": [
        "def sugested_tip(cost):\n",
        "  tip = cost * .15\n",
        "  return tip"
      ],
      "metadata": {
        "id": "dj-hPMwt5qBl"
      },
      "execution_count": null,
      "outputs": []
    },
    {
      "cell_type": "code",
      "source": [
        "sugested_tip(1000)"
      ],
      "metadata": {
        "colab": {
          "base_uri": "https://localhost:8080/"
        },
        "id": "RHoWxX0758bg",
        "outputId": "30fd5743-22b7-418a-8b0f-712946665b30"
      },
      "execution_count": null,
      "outputs": [
        {
          "output_type": "execute_result",
          "data": {
            "text/plain": [
              "150.0"
            ]
          },
          "metadata": {},
          "execution_count": 36
        }
      ]
    }
  ]
}